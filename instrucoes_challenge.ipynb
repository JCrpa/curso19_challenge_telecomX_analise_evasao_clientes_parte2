{
 "cells": [
  {
   "cell_type": "markdown",
   "metadata": {
    "id": "3RgyMaan04TD"
   },
   "source": [
    "# Telecom X – Parte 2: Prevendo Churn\n",
    "\n",
    "## 💡 Sobre o Desafío 💡\n",
    "\n",
    "📣 História do Desafio\n",
    "\n",
    "Parabéns! 🎉 Você foi promovido após seu excelente desempenho na análise exploratória da evasão de clientes na Telecom X. Sua dedicação, clareza na comunicação dos dados e visão estratégica fizeram a diferença.\n",
    "\n",
    "Agora, você foi convidado a integrar oficialmente a equipe de Machine Learning da empresa!\n",
    "\n",
    "🎯 Missão\n",
    "\n",
    "Sua nova missão é desenvolver modelos preditivos capazes de prever quais clientes têm maior chance de cancelar seus serviços.\n",
    "\n",
    "A empresa quer antecipar o problema da evasão, e cabe a você construir um pipeline robusto para essa etapa inicial de modelagem.\n",
    "\n",
    "🧠 Objetivos do Desafio\n",
    "\n",
    "Preparar os dados para a modelagem (tratamento, encoding, normalização).\n",
    "\n",
    "Realizar análise de correlação e seleção de variáveis.\n",
    "\n",
    "Treinar dois ou mais modelos de classificação.\n",
    "\n",
    "Avaliar o desempenho dos modelos com métricas.\n",
    "\n",
    "Interpretar os resultados, incluindo a importância das variáveis.\n",
    "\n",
    "Criar uma conclusão estratégica apontando os principais fatores que influenciam a evasão.\n",
    "\n",
    "🧰 O que você vai praticar\n",
    "\n",
    "✅ Pré-processamento de dados para Machine Learning\n",
    "✅ Construção e avaliação de modelos preditivos\n",
    "✅ Interpretação dos resultados e entrega de insights\n",
    "✅ Comunicação técnica com foco estratégico\n",
    "\n",
    "🚀 Você agora é: Analista de Machine Learning Júnior\n",
    "\n",
    "A Telecom X está confiando na sua entrega para dar os próximos passos em direção a uma solução de inteligência preditiva eficaz. Boa sorte!\n",
    "\n"
   ]
  },
  {
   "cell_type": "markdown",
   "metadata": {},
   "source": [
    "-----------------------------------------------------------------"
   ]
  },
  {
   "cell_type": "markdown",
   "metadata": {},
   "source": [
    "# 🛠️ Preparação dos Dados"
   ]
  },
  {
   "cell_type": "markdown",
   "metadata": {},
   "source": [
    "## Extração do Arquivo Tratado\n",
    "\n",
    "Carregue o arquivo CSV que contém os dados tratados anteriormente.\n",
    "📂 Atenção: Utilize o mesmo arquivo que você limpou e organizou na parte 1 do desafio Telecom X. Ele deve conter somente as colunas relevantes, já com os dados corrigidos e padronizados."
   ]
  },
  {
   "cell_type": "markdown",
   "metadata": {},
   "source": [
    "## Remoção de Colunas Irrelevantes\n",
    "\n",
    "Elimine colunas que não trazem valor para a análise ou para os modelos preditivos, como identificadores únicos (por exemplo, o ID do cliente). Essas colunas não ajudam na previsão da evasão e podem até prejudicar o desempenho dos modelos."
   ]
  },
  {
   "cell_type": "markdown",
   "metadata": {},
   "source": [
    "## Encoding\n",
    "\n",
    "Transforme as variáveis categóricas em formato numérico para torná-las compatíveis com algoritmos de machine learning. Utilize um método de codificação adequado, como o one-hot encoding.\n",
    "\n",
    "Dicas:\n",
    "\n",
    "https://www.alura.com.br/artigos/get-dummies-vs-onehotencoder-qual-metodo-escolher?utm_term=&utm_campaign=topo-aon-search-gg-dsa-artigos_conteudos&utm_source=google&utm_medium=cpc&campaign_id=11384329873_164212380672_703829166693&utm_id=11384329873_164212380672_703829166693&hsa_acc=7964138385&hsa_cam=topo-aon-search-gg-dsa-artigos_conteudos&hsa_grp=164212380672&hsa_ad=703829166693&hsa_src=g&hsa_tgt=aud-527303763294:dsa-425656816943&hsa_kw=&hsa_mt=&hsa_net=google&hsa_ver=3&gad_source=1&gad_campaignid=11384329873&gclid=CjwKCAjwz_bABhAGEiwAm-P8YcX5MR72F94-IuQpgazH03079qa2AYVScM4YseUiH-6yqcctRGwHuRoCLq4QAvD_BwE"
   ]
  },
  {
   "cell_type": "markdown",
   "metadata": {},
   "source": [
    "## Verificação da Proporção de Evasão\n",
    "\n",
    "Calcule a proporção de clientes que evadiram em relação aos que permaneceram ativos. Avalie se há desequilíbrio entre as classes, o que pode impactar modelos preditivos e a análise de resultados."
   ]
  },
  {
   "cell_type": "markdown",
   "metadata": {},
   "source": [
    "## Balanceamento de Classes (opcional )\n",
    "\n",
    "Caso queira aprofundar a análise, aplique técnicas de balanceamento como undersampling ou oversampling. Em situações de forte desbalanceamento, ferramentas como o SMOTE podem ser úteis para gerar exemplos sintéticos da classe minoritária.\n",
    "\n",
    "Dicas:\n",
    "\n",
    "https://www.alura.com.br/artigos/lidando-com-desbalanceamento-dados?srsltid=AfmBOopTgyC_tpujwkC778gYjcLituqgxknih2Cr4vD72_OFHSB4v35M"
   ]
  },
  {
   "cell_type": "markdown",
   "metadata": {},
   "source": [
    "## Normalização ou Padronização (se necessário)\n",
    "\n",
    "Avalie a necessidade de normalizar ou padronizar os dados, conforme os modelos que serão aplicados.\n",
    "Modelos baseados em distância, como KNN, SVM, Regressão Logística e Redes Neurais, requerem esse pré-processamento.\n",
    "Já modelos baseados em árvore, como Decision Tree, Random Forest e XGBoost, não são sensíveis à escala dos dados.\n",
    "\n",
    "\n",
    "\n",
    "Dicas:\n",
    "\n",
    "https://medium.com/ipnet-growth-partner/padronizacao-normalizacao-dados-machine-learning-f8f29246c12"
   ]
  },
  {
   "cell_type": "markdown",
   "metadata": {},
   "source": [
    "# 🎯 Correlação e Seleção de Variáveis"
   ]
  },
  {
   "cell_type": "markdown",
   "metadata": {},
   "source": [
    "## Análise de Correlação\n",
    "\n",
    "Visualize a matriz de correlação para identificar relações entre variáveis numéricas. Observe especialmente quais variáveis apresentam maior correlação com a evasão, pois elas podem ser fortes candidatas para o modelo preditivo."
   ]
  },
  {
   "cell_type": "markdown",
   "metadata": {},
   "source": [
    "## Análises Direcionadas\n",
    "\n",
    "Investigue como variáveis específicas se relacionam com a evasão, como:\n",
    "\n",
    "- Tempo de contrato × Evasão\n",
    "\n",
    "- Total gasto × Evasão\n",
    "\n",
    "Utilize gráficos como boxplots ou dispersão (scatter plots) para visualizar padrões e possíveis tendências."
   ]
  },
  {
   "cell_type": "markdown",
   "metadata": {},
   "source": [
    "# 🤖 Modelagem Preditiva"
   ]
  },
  {
   "cell_type": "markdown",
   "metadata": {},
   "source": [
    "## Separação de Dados\n",
    "\n",
    "Divida o conjunto de dados em treino e teste para avaliar o desempenho do modelo. Uma divisão comum é 70% para treino e 30% para teste, ou 80/20, dependendo do tamanho da base de dados."
   ]
  },
  {
   "cell_type": "markdown",
   "metadata": {},
   "source": [
    "## Criação de Modelos\n",
    "\n",
    "Crie pelo menos dois modelos diferentes para prever a evasão de clientes.\n",
    "\n",
    "Um modelo pode exigir normalização, como Regressão Logística ou KNN.\n",
    "\n",
    "O outro modelo pode não exigir normalização, como Árvore de Decisão ou Random Forest.\n",
    "\n",
    "💡 A escolha de aplicar ou não a normalização depende dos modelos selecionados. Ambos os modelos podem ser criados sem normalização, mas a combinação de modelos com e sem normalização também é uma opção.\n",
    "\n",
    "Justifique a escolha de cada modelo e, se optar por normalizar os dados, explique a necessidade dessa etapa."
   ]
  },
  {
   "cell_type": "markdown",
   "metadata": {},
   "source": [
    "## Avaliação dos Modelos\n",
    "\n",
    "Avalie cada modelo utilizando as seguintes métricas:\n",
    "\n",
    "- Acurácia\n",
    "\n",
    "- Precisão\n",
    "\n",
    "- Recall\n",
    "\n",
    "- F1-score\n",
    "\n",
    "- Matriz de confusão\n",
    "\n",
    "Em seguida, faça uma análise crítica e compare os modelos:\n",
    "\n",
    "Qual modelo teve o melhor desempenho?\n",
    "\n",
    "Algum modelo apresentou overfitting ou underfitting? Se sim, considere as possíveis causas e ajustes:\n",
    "\n",
    "Overfitting: Quando o modelo aprende demais sobre os dados de treino, perdendo a capacidade de generalizar para novos dados. Considere reduzir a complexidade do modelo ou aumentar os dados de treino.\n",
    "\n",
    "Underfitting: Quando o modelo não captura bem as tendências dos dados, indicando que está muito simples. Tente aumentar a complexidade do modelo ou ajustar seus parâmetros."
   ]
  },
  {
   "cell_type": "markdown",
   "metadata": {},
   "source": [
    "# 📋  Interpretação e Conclusões"
   ]
  },
  {
   "cell_type": "markdown",
   "metadata": {},
   "source": [
    "## Análise de Importância das Variáveis\n",
    "\n",
    "Após escolher os modelos, realize a análise das variáveis mais relevantes para a previsão de evasão:\n",
    "\n",
    "- Regressão Logística:  investigue os coeficientes das variáveis, que mostram sua contribuição para a previsão de evasão.\n",
    "\n",
    "- KNN (K-Nearest Neighbors): Observe como os vizinhos mais próximos influenciam a decisão de classificação. As variáveis mais impactantes podem ser aquelas que mais contribuem para a proximidade entre os pontos de dados.\n",
    "\n",
    "- Random Forest: Utilize a importância das variáveis fornecida pelo modelo. O Random Forest calcula a importância com base em como cada variável contribui para a redução da impureza durante as divisões das árvores.\n",
    "\n",
    "- SVM (Support Vector Machine): No SVM, as variáveis mais relevantes são aquelas que influenciam a fronteira de decisão entre as classes. Você pode analisar os coeficientes dos vetores de suporte para entender quais variáveis têm maior impacto.\n",
    "\n",
    "- Outros Modelos: Dependendo do modelo escolhido, considere a análise de métricas específicas para entender a relevância das variáveis. Por exemplo, coeficientes em modelos lineares, pesos em redes neurais, ou importância relativa em boosting (como XGBoost)."
   ]
  },
  {
   "cell_type": "markdown",
   "metadata": {},
   "source": [
    "## Conclusão\n",
    "\n",
    "Elaborem um relatório detalhado, destacando os fatores que mais influenciam a evasão, com base nas variáveis selecionadas e no desempenho de cada modelo.\n",
    "\n",
    "Identifiquem os principais fatores que afetam a evasão de clientes e proponham estratégias de retenção com base nos resultados obtidos."
   ]
  },
  {
   "cell_type": "markdown",
   "metadata": {},
   "source": []
  }
 ],
 "metadata": {
  "colab": {
   "authorship_tag": "ABX9TyNAcHMa4C+Q6J7M1CkYm1Tn",
   "provenance": [],
   "toc_visible": true
  },
  "kernelspec": {
   "display_name": "Python 3",
   "name": "python3"
  },
  "language_info": {
   "name": "python"
  }
 },
 "nbformat": 4,
 "nbformat_minor": 0
}
